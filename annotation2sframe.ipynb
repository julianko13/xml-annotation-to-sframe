{
 "cells": [
  {
   "cell_type": "code",
   "execution_count": 37,
   "metadata": {},
   "outputs": [],
   "source": [
    "import turicreate as tc\n",
    "from turicreate import SFrameBuilder\n",
    "import os\n",
    "from pathlib import Path\n",
    "import xml.etree.ElementTree as ET"
   ]
  },
  {
   "cell_type": "code",
   "execution_count": 62,
   "metadata": {},
   "outputs": [
    {
     "data": {
      "application/vnd.jupyter.widget-view+json": {
       "model_id": "372ad5c48761454f87b0ccdf991dd01e",
       "version_major": 2,
       "version_minor": 0
      },
      "text/plain": [
       "Output(layout=Layout(border='1px solid black'))"
      ]
     },
     "metadata": {},
     "output_type": "display_data"
    },
    {
     "name": "stdout",
     "output_type": "stream",
     "text": [
      "annotation\n",
      "annotation\n",
      "annotation\n",
      "annotation\n"
     ]
    },
    {
     "data": {
      "text/html": [
       "<pre>Materializing SFrame</pre>"
      ],
      "text/plain": [
       "Materializing SFrame"
      ]
     },
     "metadata": {},
     "output_type": "display_data"
    }
   ],
   "source": [
    "import ipywidgets as widgets\n",
    "from IPython.display import display\n",
    "from decimal import Decimal\n",
    "out = widgets.Output(layout={'border': '1px solid black'})\n",
    "twoinplaces = Decimal('0.01')\n",
    "display(out)\n",
    "\n",
    "search_dir = '/Volumes/RamDisk/comic'\n",
    "sb = SFrameBuilder([tc.Image,list],column_names=['image','annotations'])\n",
    "for root, subdirs, files in os.walk(search_dir):\n",
    "    for filename in files:\n",
    "        if filename.endswith(('.png','.jpg','jpeg')):\n",
    "            with out:\n",
    "                print(\"image file\",filename)\n",
    "            file_path = os.path.join(root,filename)\n",
    "            annfilename=Path(filename).stem + \".annotations\"\n",
    "            annPath = os.path.join(root,annfilename)\n",
    "            tree = ET.parse(annPath)\n",
    "            rootElement = tree.getroot()\n",
    "            print(rootElement.tag)\n",
    "            annotations=[]\n",
    "            for subobject in rootElement.findall('object'):\n",
    "                name=subobject.find('name').text\n",
    "                bndbox=subobject.find('bndbox')\n",
    "                xmin=int(bndbox.find('xmin').text)\n",
    "                xmax=int(bndbox.find('xmax').text)\n",
    "                ymin=int(bndbox.find('ymin').text)\n",
    "                ymax=int(bndbox.find('ymax').text)\n",
    "                bboxDict = {'width': xmax - xmin, 'height': ymax - ymin, 'x':xmin + (xmax - xmin) / 2, 'y':ymin + (ymax - ymin) / 2}\n",
    "                annotation={'label':name,'coordinates':bboxDict}\n",
    "                annotations.append(annotation)\n",
    "            image=tc.Image(file_path)\n",
    "            sb.append([image,annotations])\n",
    "sf = sb.close()\n",
    "sf['image_with_ground_truth'] = \\\n",
    "    tc.object_detector.util.draw_bounding_boxes(sf['image'], sf['annotations'])\n",
    "sf.explore()"
   ]
  },
  {
   "cell_type": "code",
   "execution_count": null,
   "metadata": {},
   "outputs": [],
   "source": [
    "sf.save(/Volumes/Data/objects.sframe)"
   ]
  }
 ],
 "metadata": {
  "kernelspec": {
   "display_name": "Python 3",
   "language": "python",
   "name": "python3"
  },
  "language_info": {
   "codemirror_mode": {
    "name": "ipython",
    "version": 3
   },
   "file_extension": ".py",
   "mimetype": "text/x-python",
   "name": "python",
   "nbconvert_exporter": "python",
   "pygments_lexer": "ipython3",
   "version": "3.6.5"
  }
 },
 "nbformat": 4,
 "nbformat_minor": 2
}
